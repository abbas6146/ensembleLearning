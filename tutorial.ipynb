{
 "cells": [
  {
   "cell_type": "code",
   "execution_count": 1,
   "metadata": {},
   "outputs": [
    {
     "name": "stdout",
     "output_type": "stream",
     "text": [
      "TESTING\n"
     ]
    }
   ],
   "source": [
    "print(\"TESTING\")"
   ]
  },
  {
   "cell_type": "code",
   "execution_count": 1,
   "metadata": {},
   "outputs": [],
   "source": [
    "import numpy as np\n",
    "a = np.array([1, 1, 2, 3, 3])"
   ]
  },
  {
   "cell_type": "code",
   "execution_count": null,
   "metadata": {},
   "outputs": [],
   "source": [
    "a, b = np.unique(a, return_counts=True)"
   ]
  },
  {
   "cell_type": "code",
   "execution_count": 3,
   "metadata": {},
   "outputs": [
    {
     "data": {
      "text/plain": [
       "200"
      ]
     },
     "execution_count": 3,
     "metadata": {},
     "output_type": "execute_result"
    }
   ],
   "source": [
    "np.array([10, 5, 200, 2]).max()"
   ]
  },
  {
   "cell_type": "code",
   "execution_count": 1,
   "metadata": {},
   "outputs": [],
   "source": [
    "from decisionTree import decisionTree"
   ]
  },
  {
   "cell_type": "code",
   "execution_count": 2,
   "metadata": {},
   "outputs": [],
   "source": [
    "dt = decisionTree()"
   ]
  },
  {
   "cell_type": "code",
   "execution_count": 3,
   "metadata": {},
   "outputs": [],
   "source": [
    "import pandas as pd\n",
    "data = pd.read_csv(\"iris.csv\")"
   ]
  },
  {
   "cell_type": "code",
   "execution_count": 4,
   "metadata": {},
   "outputs": [],
   "source": [
    "X = data.drop([\"variety\"], axis=1).values\n",
    "y = data[\"variety\"].values"
   ]
  },
  {
   "cell_type": "code",
   "execution_count": 5,
   "metadata": {},
   "outputs": [],
   "source": [
    "col, split = dt.find_split(X, y)"
   ]
  },
  {
   "cell_type": "code",
   "execution_count": 6,
   "metadata": {},
   "outputs": [
    {
     "name": "stdout",
     "output_type": "stream",
     "text": [
      "2 3.0\n"
     ]
    }
   ],
   "source": [
    "print(col, split)"
   ]
  },
  {
   "cell_type": "code",
   "execution_count": 7,
   "metadata": {},
   "outputs": [],
   "source": [
    "l, r = dt.divide_data(X, col, split)"
   ]
  },
  {
   "cell_type": "code",
   "execution_count": 8,
   "metadata": {},
   "outputs": [],
   "source": [
    "col, split = dt.find_split(X[r], y[r])"
   ]
  },
  {
   "cell_type": "code",
   "execution_count": 9,
   "metadata": {},
   "outputs": [
    {
     "data": {
      "text/plain": [
       "0.49994898479746963"
      ]
     },
     "execution_count": 9,
     "metadata": {},
     "output_type": "execute_result"
    }
   ],
   "source": [
    "dt.gini_impurity(y[r])"
   ]
  },
  {
   "cell_type": "code",
   "execution_count": 18,
   "metadata": {},
   "outputs": [
    {
     "name": "stdout",
     "output_type": "stream",
     "text": [
      "None\n"
     ]
    }
   ],
   "source": [
    "print(dt.root.right)"
   ]
  },
  {
   "cell_type": "code",
   "execution_count": 10,
   "metadata": {},
   "outputs": [
    {
     "name": "stdout",
     "output_type": "stream",
     "text": [
      "Right Condition entered\n",
      "Right Condition entered\n",
      "Right Condition entered\n",
      "Right Condition entered\n",
      "Right Condition entered\n",
      "Right Condition entered\n",
      "Right Condition entered\n",
      "Right Condition entered\n",
      "Right Condition entered\n",
      "Right Condition entered\n",
      "Right Condition entered\n",
      "Left Condition entered\n",
      "Left Condition entered\n",
      "Left Condition entered\n",
      "Left Condition entered\n",
      "Left Condition entered\n",
      "Left Condition entered\n",
      "Left Condition entered\n",
      "Left Condition entered\n",
      "Left Condition entered\n",
      "Left Condition entered\n",
      "Left Condition entered\n"
     ]
    }
   ],
   "source": [
    "dt.train(X, y)"
   ]
  },
  {
   "cell_type": "code",
   "execution_count": 11,
   "metadata": {},
   "outputs": [
    {
     "name": "stdout",
     "output_type": "stream",
     "text": [
      "Predicted class is :  Setosa  with a probability of :  0.9803921568627451\n",
      "Leaf reached!!!!!\n",
      "Predicted class is :  Setosa  with a probability of :  0.9803921568627451\n",
      "Leaf reached!!!!!\n",
      "Predicted class is :  Setosa  with a probability of :  0.9803921568627451\n",
      "Leaf reached!!!!!\n",
      "Predicted class is :  Setosa  with a probability of :  0.9803921568627451\n",
      "Leaf reached!!!!!\n",
      "Predicted class is :  Setosa  with a probability of :  0.9803921568627451\n",
      "Leaf reached!!!!!\n",
      "Predicted class is :  Setosa  with a probability of :  0.9803921568627451\n",
      "Leaf reached!!!!!\n",
      "Predicted class is :  Setosa  with a probability of :  0.9803921568627451\n",
      "Leaf reached!!!!!\n",
      "Predicted class is :  Setosa  with a probability of :  0.9803921568627451\n",
      "Leaf reached!!!!!\n",
      "Predicted class is :  Setosa  with a probability of :  0.9803921568627451\n",
      "Leaf reached!!!!!\n",
      "Predicted class is :  Setosa  with a probability of :  0.9803921568627451\n",
      "Leaf reached!!!!!\n",
      "Predicted class is :  Setosa  with a probability of :  0.9803921568627451\n",
      "Leaf reached!!!!!\n",
      "Predicted class is :  Setosa  with a probability of :  0.9803921568627451\n",
      "Leaf reached!!!!!\n",
      "Predicted class is :  Setosa  with a probability of :  0.9803921568627451\n",
      "Leaf reached!!!!!\n",
      "Predicted class is :  Setosa  with a probability of :  0.9803921568627451\n",
      "Leaf reached!!!!!\n",
      "Predicted class is :  Setosa  with a probability of :  0.9803921568627451\n",
      "Leaf reached!!!!!\n",
      "Predicted class is :  Setosa  with a probability of :  0.9803921568627451\n",
      "Leaf reached!!!!!\n",
      "Predicted class is :  Setosa  with a probability of :  0.9803921568627451\n",
      "Leaf reached!!!!!\n",
      "Predicted class is :  Setosa  with a probability of :  0.9803921568627451\n",
      "Leaf reached!!!!!\n",
      "Predicted class is :  Setosa  with a probability of :  0.9803921568627451\n",
      "Leaf reached!!!!!\n",
      "Predicted class is :  Setosa  with a probability of :  0.9803921568627451\n",
      "Leaf reached!!!!!\n",
      "Predicted class is :  Setosa  with a probability of :  0.9803921568627451\n",
      "Leaf reached!!!!!\n",
      "Predicted class is :  Setosa  with a probability of :  0.9803921568627451\n",
      "Leaf reached!!!!!\n",
      "Predicted class is :  Setosa  with a probability of :  0.9803921568627451\n",
      "Leaf reached!!!!!\n",
      "Predicted class is :  Setosa  with a probability of :  0.9803921568627451\n",
      "Leaf reached!!!!!\n",
      "Predicted class is :  Setosa  with a probability of :  0.9803921568627451\n",
      "Leaf reached!!!!!\n",
      "Predicted class is :  Setosa  with a probability of :  0.9803921568627451\n",
      "Leaf reached!!!!!\n",
      "Predicted class is :  Setosa  with a probability of :  0.9803921568627451\n",
      "Leaf reached!!!!!\n",
      "Predicted class is :  Setosa  with a probability of :  0.9803921568627451\n",
      "Leaf reached!!!!!\n",
      "Predicted class is :  Setosa  with a probability of :  0.9803921568627451\n",
      "Leaf reached!!!!!\n",
      "Predicted class is :  Setosa  with a probability of :  0.9803921568627451\n",
      "Leaf reached!!!!!\n",
      "Predicted class is :  Setosa  with a probability of :  0.9803921568627451\n",
      "Leaf reached!!!!!\n",
      "Predicted class is :  Setosa  with a probability of :  0.9803921568627451\n",
      "Leaf reached!!!!!\n",
      "Predicted class is :  Setosa  with a probability of :  0.9803921568627451\n",
      "Leaf reached!!!!!\n",
      "Predicted class is :  Setosa  with a probability of :  0.9803921568627451\n",
      "Leaf reached!!!!!\n",
      "Predicted class is :  Setosa  with a probability of :  0.9803921568627451\n",
      "Leaf reached!!!!!\n",
      "Predicted class is :  Setosa  with a probability of :  0.9803921568627451\n",
      "Leaf reached!!!!!\n",
      "Predicted class is :  Setosa  with a probability of :  0.9803921568627451\n",
      "Leaf reached!!!!!\n",
      "Predicted class is :  Setosa  with a probability of :  0.9803921568627451\n",
      "Leaf reached!!!!!\n",
      "Predicted class is :  Setosa  with a probability of :  0.9803921568627451\n",
      "Leaf reached!!!!!\n",
      "Predicted class is :  Setosa  with a probability of :  0.9803921568627451\n",
      "Leaf reached!!!!!\n",
      "Predicted class is :  Setosa  with a probability of :  0.9803921568627451\n",
      "Leaf reached!!!!!\n",
      "Predicted class is :  Setosa  with a probability of :  0.9803921568627451\n",
      "Leaf reached!!!!!\n",
      "Predicted class is :  Setosa  with a probability of :  0.9803921568627451\n",
      "Leaf reached!!!!!\n",
      "Predicted class is :  Setosa  with a probability of :  0.9803921568627451\n",
      "Leaf reached!!!!!\n",
      "Predicted class is :  Setosa  with a probability of :  0.9803921568627451\n",
      "Leaf reached!!!!!\n",
      "Predicted class is :  Setosa  with a probability of :  0.9803921568627451\n",
      "Leaf reached!!!!!\n",
      "Predicted class is :  Setosa  with a probability of :  0.9803921568627451\n",
      "Leaf reached!!!!!\n",
      "Predicted class is :  Setosa  with a probability of :  0.9803921568627451\n",
      "Leaf reached!!!!!\n",
      "Predicted class is :  Setosa  with a probability of :  0.9803921568627451\n",
      "Leaf reached!!!!!\n",
      "Predicted class is :  Setosa  with a probability of :  0.9803921568627451\n",
      "Leaf reached!!!!!\n",
      "Predicted class is :  Virginica  with a probability of :  0.5050505050505051\n",
      "Leaf reached!!!!!\n",
      "Predicted class is :  Virginica  with a probability of :  0.5050505050505051\n",
      "Leaf reached!!!!!\n",
      "Predicted class is :  Virginica  with a probability of :  0.5050505050505051\n",
      "Leaf reached!!!!!\n",
      "Predicted class is :  Virginica  with a probability of :  0.5050505050505051\n",
      "Leaf reached!!!!!\n",
      "Predicted class is :  Virginica  with a probability of :  0.5050505050505051\n",
      "Leaf reached!!!!!\n",
      "Predicted class is :  Virginica  with a probability of :  0.5050505050505051\n",
      "Leaf reached!!!!!\n",
      "Predicted class is :  Virginica  with a probability of :  0.5050505050505051\n",
      "Leaf reached!!!!!\n",
      "Predicted class is :  Virginica  with a probability of :  0.5050505050505051\n",
      "Leaf reached!!!!!\n",
      "Predicted class is :  Virginica  with a probability of :  0.5050505050505051\n",
      "Leaf reached!!!!!\n",
      "Predicted class is :  Virginica  with a probability of :  0.5050505050505051\n",
      "Leaf reached!!!!!\n",
      "Predicted class is :  Virginica  with a probability of :  0.5050505050505051\n",
      "Leaf reached!!!!!\n",
      "Predicted class is :  Virginica  with a probability of :  0.5050505050505051\n",
      "Leaf reached!!!!!\n",
      "Predicted class is :  Virginica  with a probability of :  0.5050505050505051\n",
      "Leaf reached!!!!!\n",
      "Predicted class is :  Virginica  with a probability of :  0.5050505050505051\n",
      "Leaf reached!!!!!\n",
      "Predicted class is :  Virginica  with a probability of :  0.5050505050505051\n",
      "Leaf reached!!!!!\n",
      "Predicted class is :  Virginica  with a probability of :  0.5050505050505051\n",
      "Leaf reached!!!!!\n",
      "Predicted class is :  Virginica  with a probability of :  0.5050505050505051\n",
      "Leaf reached!!!!!\n",
      "Predicted class is :  Virginica  with a probability of :  0.5050505050505051\n",
      "Leaf reached!!!!!\n",
      "Predicted class is :  Virginica  with a probability of :  0.5050505050505051\n",
      "Leaf reached!!!!!\n",
      "Predicted class is :  Virginica  with a probability of :  0.5050505050505051\n",
      "Leaf reached!!!!!\n",
      "Predicted class is :  Virginica  with a probability of :  0.5050505050505051\n",
      "Leaf reached!!!!!\n",
      "Predicted class is :  Virginica  with a probability of :  0.5050505050505051\n",
      "Leaf reached!!!!!\n",
      "Predicted class is :  Virginica  with a probability of :  0.5050505050505051\n",
      "Leaf reached!!!!!\n",
      "Predicted class is :  Virginica  with a probability of :  0.5050505050505051\n",
      "Leaf reached!!!!!\n",
      "Predicted class is :  Virginica  with a probability of :  0.5050505050505051\n",
      "Leaf reached!!!!!\n",
      "Predicted class is :  Virginica  with a probability of :  0.5050505050505051\n",
      "Leaf reached!!!!!\n",
      "Predicted class is :  Virginica  with a probability of :  0.5050505050505051\n",
      "Leaf reached!!!!!\n",
      "Predicted class is :  Virginica  with a probability of :  0.5050505050505051\n",
      "Leaf reached!!!!!\n",
      "Predicted class is :  Virginica  with a probability of :  0.5050505050505051\n",
      "Leaf reached!!!!!\n",
      "Predicted class is :  Virginica  with a probability of :  0.5050505050505051\n",
      "Leaf reached!!!!!\n",
      "Predicted class is :  Virginica  with a probability of :  0.5050505050505051\n",
      "Leaf reached!!!!!\n",
      "Predicted class is :  Virginica  with a probability of :  0.5050505050505051\n",
      "Leaf reached!!!!!\n",
      "Predicted class is :  Virginica  with a probability of :  0.5050505050505051\n",
      "Leaf reached!!!!!\n",
      "Predicted class is :  Virginica  with a probability of :  0.5050505050505051\n",
      "Leaf reached!!!!!\n",
      "Predicted class is :  Virginica  with a probability of :  0.5050505050505051\n",
      "Leaf reached!!!!!\n",
      "Predicted class is :  Virginica  with a probability of :  0.5050505050505051\n",
      "Leaf reached!!!!!\n",
      "Predicted class is :  Virginica  with a probability of :  0.5050505050505051\n",
      "Leaf reached!!!!!\n",
      "Predicted class is :  Virginica  with a probability of :  0.5050505050505051\n",
      "Leaf reached!!!!!\n",
      "Predicted class is :  Virginica  with a probability of :  0.5050505050505051\n",
      "Leaf reached!!!!!\n",
      "Predicted class is :  Virginica  with a probability of :  0.5050505050505051\n",
      "Leaf reached!!!!!\n",
      "Predicted class is :  Virginica  with a probability of :  0.5050505050505051\n",
      "Leaf reached!!!!!\n",
      "Predicted class is :  Virginica  with a probability of :  0.5050505050505051\n",
      "Leaf reached!!!!!\n",
      "Predicted class is :  Virginica  with a probability of :  0.5050505050505051\n",
      "Leaf reached!!!!!\n",
      "Predicted class is :  Virginica  with a probability of :  0.5050505050505051\n",
      "Leaf reached!!!!!\n",
      "Predicted class is :  Virginica  with a probability of :  0.5050505050505051\n",
      "Leaf reached!!!!!\n",
      "Predicted class is :  Virginica  with a probability of :  0.5050505050505051\n",
      "Leaf reached!!!!!\n",
      "Predicted class is :  Virginica  with a probability of :  0.5050505050505051\n",
      "Leaf reached!!!!!\n",
      "Predicted class is :  Virginica  with a probability of :  0.5050505050505051\n",
      "Leaf reached!!!!!\n",
      "Predicted class is :  Setosa  with a probability of :  0.9803921568627451\n",
      "Leaf reached!!!!!\n",
      "Predicted class is :  Virginica  with a probability of :  0.5050505050505051\n",
      "Leaf reached!!!!!\n",
      "Predicted class is :  Virginica  with a probability of :  0.5050505050505051\n",
      "Leaf reached!!!!!\n",
      "Predicted class is :  Virginica  with a probability of :  0.5050505050505051\n",
      "Leaf reached!!!!!\n",
      "Predicted class is :  Virginica  with a probability of :  0.5050505050505051\n",
      "Leaf reached!!!!!\n",
      "Predicted class is :  Virginica  with a probability of :  0.5050505050505051\n",
      "Leaf reached!!!!!\n",
      "Predicted class is :  Virginica  with a probability of :  0.5050505050505051\n",
      "Leaf reached!!!!!\n",
      "Predicted class is :  Virginica  with a probability of :  0.5050505050505051\n",
      "Leaf reached!!!!!\n",
      "Predicted class is :  Virginica  with a probability of :  0.5050505050505051\n",
      "Leaf reached!!!!!\n",
      "Predicted class is :  Virginica  with a probability of :  0.5050505050505051\n",
      "Leaf reached!!!!!\n",
      "Predicted class is :  Virginica  with a probability of :  0.5050505050505051\n",
      "Leaf reached!!!!!\n",
      "Predicted class is :  Virginica  with a probability of :  0.5050505050505051\n",
      "Leaf reached!!!!!\n",
      "Predicted class is :  Virginica  with a probability of :  0.5050505050505051\n",
      "Leaf reached!!!!!\n",
      "Predicted class is :  Virginica  with a probability of :  0.5050505050505051\n",
      "Leaf reached!!!!!\n",
      "Predicted class is :  Virginica  with a probability of :  0.5050505050505051\n",
      "Leaf reached!!!!!\n",
      "Predicted class is :  Virginica  with a probability of :  0.5050505050505051\n",
      "Leaf reached!!!!!\n",
      "Predicted class is :  Virginica  with a probability of :  0.5050505050505051\n",
      "Leaf reached!!!!!\n",
      "Predicted class is :  Virginica  with a probability of :  0.5050505050505051\n",
      "Leaf reached!!!!!\n",
      "Predicted class is :  Virginica  with a probability of :  0.5050505050505051\n",
      "Leaf reached!!!!!\n",
      "Predicted class is :  Virginica  with a probability of :  0.5050505050505051\n",
      "Leaf reached!!!!!\n",
      "Predicted class is :  Virginica  with a probability of :  0.5050505050505051\n",
      "Leaf reached!!!!!\n",
      "Predicted class is :  Virginica  with a probability of :  0.5050505050505051\n",
      "Leaf reached!!!!!\n",
      "Predicted class is :  Virginica  with a probability of :  0.5050505050505051\n",
      "Leaf reached!!!!!\n",
      "Predicted class is :  Virginica  with a probability of :  0.5050505050505051\n",
      "Leaf reached!!!!!\n",
      "Predicted class is :  Virginica  with a probability of :  0.5050505050505051\n",
      "Leaf reached!!!!!\n",
      "Predicted class is :  Virginica  with a probability of :  0.5050505050505051\n",
      "Leaf reached!!!!!\n",
      "Predicted class is :  Virginica  with a probability of :  0.5050505050505051\n",
      "Leaf reached!!!!!\n",
      "Predicted class is :  Virginica  with a probability of :  0.5050505050505051\n",
      "Leaf reached!!!!!\n",
      "Predicted class is :  Virginica  with a probability of :  0.5050505050505051\n",
      "Leaf reached!!!!!\n",
      "Predicted class is :  Virginica  with a probability of :  0.5050505050505051\n",
      "Leaf reached!!!!!\n",
      "Predicted class is :  Virginica  with a probability of :  0.5050505050505051\n",
      "Leaf reached!!!!!\n",
      "Predicted class is :  Virginica  with a probability of :  0.5050505050505051\n",
      "Leaf reached!!!!!\n",
      "Predicted class is :  Virginica  with a probability of :  0.5050505050505051\n",
      "Leaf reached!!!!!\n",
      "Predicted class is :  Virginica  with a probability of :  0.5050505050505051\n",
      "Leaf reached!!!!!\n",
      "Predicted class is :  Virginica  with a probability of :  0.5050505050505051\n",
      "Leaf reached!!!!!\n",
      "Predicted class is :  Virginica  with a probability of :  0.5050505050505051\n",
      "Leaf reached!!!!!\n",
      "Predicted class is :  Virginica  with a probability of :  0.5050505050505051\n",
      "Leaf reached!!!!!\n",
      "Predicted class is :  Virginica  with a probability of :  0.5050505050505051\n",
      "Leaf reached!!!!!\n",
      "Predicted class is :  Virginica  with a probability of :  0.5050505050505051\n",
      "Leaf reached!!!!!\n",
      "Predicted class is :  Virginica  with a probability of :  0.5050505050505051\n",
      "Leaf reached!!!!!\n",
      "Predicted class is :  Virginica  with a probability of :  0.5050505050505051\n",
      "Leaf reached!!!!!\n",
      "Predicted class is :  Virginica  with a probability of :  0.5050505050505051\n",
      "Leaf reached!!!!!\n",
      "Predicted class is :  Virginica  with a probability of :  0.5050505050505051\n",
      "Leaf reached!!!!!\n",
      "Predicted class is :  Virginica  with a probability of :  0.5050505050505051\n",
      "Leaf reached!!!!!\n",
      "Predicted class is :  Virginica  with a probability of :  0.5050505050505051\n",
      "Leaf reached!!!!!\n",
      "Predicted class is :  Virginica  with a probability of :  0.5050505050505051\n",
      "Leaf reached!!!!!\n",
      "Predicted class is :  Virginica  with a probability of :  0.5050505050505051\n",
      "Leaf reached!!!!!\n",
      "Predicted class is :  Virginica  with a probability of :  0.5050505050505051\n",
      "Leaf reached!!!!!\n",
      "Predicted class is :  Virginica  with a probability of :  0.5050505050505051\n",
      "Leaf reached!!!!!\n",
      "Predicted class is :  Virginica  with a probability of :  0.5050505050505051\n",
      "Leaf reached!!!!!\n",
      "Predicted class is :  Virginica  with a probability of :  0.5050505050505051\n",
      "Leaf reached!!!!!\n",
      "Predicted class is :  Virginica  with a probability of :  0.5050505050505051\n",
      "Leaf reached!!!!!\n"
     ]
    }
   ],
   "source": [
    "ypred = []\n",
    "for i in range(len(X)):\n",
    "    ypred.append(dt.predict(X[i]))"
   ]
  },
  {
   "cell_type": "code",
   "execution_count": 12,
   "metadata": {},
   "outputs": [
    {
     "name": "stdout",
     "output_type": "stream",
     "text": [
      "0.6666666666666666\n"
     ]
    }
   ],
   "source": [
    "from sklearn.metrics import accuracy_score\n",
    "print(accuracy_score(ypred, y))"
   ]
  },
  {
   "cell_type": "code",
   "execution_count": 19,
   "metadata": {},
   "outputs": [
    {
     "data": {
      "text/plain": [
       "(array(['Setosa', 'Versicolor', 'Virginica'], dtype=object),\n",
       " array([50, 50, 50]))"
      ]
     },
     "execution_count": 19,
     "metadata": {},
     "output_type": "execute_result"
    }
   ],
   "source": [
    "np.unique(y, return_counts=True)"
   ]
  },
  {
   "cell_type": "code",
   "execution_count": 15,
   "metadata": {},
   "outputs": [
    {
     "data": {
      "text/plain": [
       "(array(['Setosa', 'Virginica'], dtype='<U9'), array([51, 99]))"
      ]
     },
     "execution_count": 15,
     "metadata": {},
     "output_type": "execute_result"
    }
   ],
   "source": [
    "import numpy as np\n",
    "np.unique(ypred, return_counts=True)"
   ]
  },
  {
   "cell_type": "code",
   "execution_count": 14,
   "metadata": {},
   "outputs": [
    {
     "data": {
      "text/plain": [
       "'Setosa'"
      ]
     },
     "execution_count": 14,
     "metadata": {},
     "output_type": "execute_result"
    }
   ],
   "source": [
    "y[0]"
   ]
  },
  {
   "cell_type": "code",
   "execution_count": null,
   "metadata": {},
   "outputs": [],
   "source": []
  }
 ],
 "metadata": {
  "interpreter": {
   "hash": "31f2aee4e71d21fbe5cf8b01ff0e069b9275f58929596ceb00d14d90e3e16cd6"
  },
  "kernelspec": {
   "display_name": "Python 3.6.9 64-bit",
   "language": "python",
   "name": "python3"
  },
  "language_info": {
   "codemirror_mode": {
    "name": "ipython",
    "version": 3
   },
   "file_extension": ".py",
   "mimetype": "text/x-python",
   "name": "python",
   "nbconvert_exporter": "python",
   "pygments_lexer": "ipython3",
   "version": "3.6.9"
  },
  "orig_nbformat": 4
 },
 "nbformat": 4,
 "nbformat_minor": 2
}
