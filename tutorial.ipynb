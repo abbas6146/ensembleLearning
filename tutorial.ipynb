{
  "cells": [
    {
      "cell_type": "markdown",
      "metadata": {
        "id": "xZPIfFK0znAd"
      },
      "source": [
        "## Downloading source code from the github"
      ]
    },
    {
      "cell_type": "code",
      "execution_count": null,
      "metadata": {
        "colab": {
          "base_uri": "https://localhost:8080/"
        },
        "id": "Q99-M52MhE6Z",
        "outputId": "cdf3a1d1-69ad-414a-b2f7-a45b83260bfb"
      },
      "outputs": [
        {
          "name": "stdout",
          "output_type": "stream",
          "text": [
            "Cloning into 'ensembleLearning'...\n",
            "remote: Enumerating objects: 105, done.\u001b[K\n",
            "remote: Counting objects: 100% (105/105), done.\u001b[K\n",
            "remote: Compressing objects: 100% (70/70), done.\u001b[K\n",
            "remote: Total 105 (delta 46), reused 82 (delta 32), pack-reused 0\u001b[K\n",
            "Receiving objects: 100% (105/105), 182.91 KiB | 5.54 MiB/s, done.\n",
            "Resolving deltas: 100% (46/46), done.\n"
          ]
        }
      ],
      "source": [
        "!git clone https://github.com/shivaditya-meduri/ensembleLearning.git"
      ]
    },
    {
      "cell_type": "markdown",
      "metadata": {
        "id": "VoaokwXpzLIe"
      },
      "source": [
        "## Decision Tree Classifier - Implemented from scratch\n",
        "Using the gini-impurity cost function to split the data by feature and rank them based on importance, we created a Decision Tree classifier from scratch. We included 2 hyper-parameters which are max depth of the tree and the minimum samples count per leaf to tune the model. Below, we tested the model on 2 datasets which are the breast cancer dataset and the iris dataset for the task of classification"
      ]
    },
    {
      "cell_type": "markdown",
      "metadata": {
        "id": "36uf-PbNzUMk"
      },
      "source": [
        "#### Testing on Breast Cancer dataset"
      ]
    },
    {
      "cell_type": "code",
      "execution_count": null,
      "metadata": {
        "colab": {
          "base_uri": "https://localhost:8080/"
        },
        "id": "7XZzbjCZhMXw",
        "outputId": "a81b3ba5-9526-46d4-97a7-0e010e21ddeb"
      },
      "outputs": [
        {
          "name": "stdout",
          "output_type": "stream",
          "text": [
            "Accuracy on the breast cancer dataset is  0.9473684210526315\n"
          ]
        }
      ],
      "source": [
        "## Testing on breast cancer dataset which predcits if a sample to \"Benign\" or \"Malgnant\" case of cancer\n",
        "import pandas as pd\n",
        "from ensembleLearning.src.decisionTree import decisionTree\n",
        "from sklearn.model_selection import train_test_split\n",
        "from sklearn.metrics import accuracy_score\n",
        "data = pd.read_csv(\"ensembleLearning/data/bcan.csv\")\n",
        "X = data.drop([\"diagnosis\", \"id\"], axis=1).values\n",
        "y = data[\"diagnosis\"].values\n",
        "X_train, X_test, y_train, y_test = train_test_split(X, y, test_size=0.1)\n",
        "dt = decisionTree(max_depth=50, min_samples_leaf=1)\n",
        "dt.train(X_train, y_train)\n",
        "ypred = dt.predict(X_test)\n",
        "print(\"Accuracy on the breast cancer dataset is \", accuracy_score(ypred, y_test))"
      ]
    },
    {
      "cell_type": "markdown",
      "metadata": {
        "id": "7WtABUH5zZEw"
      },
      "source": [
        "#### Testing on Iris dataset"
      ]
    },
    {
      "cell_type": "code",
      "execution_count": null,
      "metadata": {
        "colab": {
          "base_uri": "https://localhost:8080/"
        },
        "id": "taJSV7VUzDwS",
        "outputId": "67dd7230-aa34-42ae-9fd0-a8768840b60e"
      },
      "outputs": [
        {
          "name": "stdout",
          "output_type": "stream",
          "text": [
            "Accuracy on iris dataset is  1.0\n"
          ]
        }
      ],
      "source": [
        "## Testing on iris dataset which classifies flower physical charecteristics to type of flower : Setosa, Verginica and Versicolor\n",
        "import pandas as pd\n",
        "from ensembleLearning.src.decisionTree import decisionTree\n",
        "from sklearn.model_selection import train_test_split\n",
        "from sklearn.metrics import accuracy_score\n",
        "data = pd.read_csv(\"ensembleLearning/data/iris.csv\")\n",
        "X = data.drop([\"variety\"], axis=1).values\n",
        "y = data[\"variety\"].values\n",
        "X_train, X_test, y_train, y_test = train_test_split(X, y, test_size=0.1)\n",
        "dt = decisionTree(type=\"classification\", max_depth=100, min_samples_leaf=1)\n",
        "dt.train(X_train, y_train)\n",
        "ypred = dt.predict(X_test)\n",
        "print(\"Accuracy on iris dataset is \", accuracy_score(ypred, y_test))"
      ]
    },
    {
      "cell_type": "markdown",
      "metadata": {
        "id": "LZrBTmRfz240"
      },
      "source": [
        "### Decision Tree Regressor\n",
        "\n",
        "Using variance as cost function to split the data by feature and rank them by importance, and then using the average of all the labels in the leaf node, we make a prediction for a given set of features after training through traversal of the binary tree created. "
      ]
    },
    {
      "cell_type": "code",
      "execution_count": null,
      "metadata": {
        "colab": {
          "base_uri": "https://localhost:8080/"
        },
        "id": "-xtTxoRlzlKa",
        "outputId": "a2168b20-91e5-468f-9537-b21f854aeef4"
      },
      "outputs": [
        {
          "name": "stdout",
          "output_type": "stream",
          "text": [
            "Root Mean Squared Error of the model is :  53117.38009733844\n"
          ]
        }
      ],
      "source": [
        "import pandas as pd\n",
        "from ensembleLearning.src.decisionTree import decisionTree\n",
        "from sklearn.model_selection import train_test_split\n",
        "from sklearn.metrics import mean_squared_error\n",
        "import math\n",
        "reg_data = pd.read_csv(\"ensembleLearning/data/regression_housing.csv\")[[\"MSSubClass\", \"LotFrontage\", \"LotArea\", \"OverallQual\", \"OverallCond\", \"SalePrice\"]]\n",
        "X = reg_data.drop([\"SalePrice\"], axis=1).values\n",
        "y = reg_data[\"SalePrice\"].values\n",
        "X_train, X_test, y_train, y_test = train_test_split(X, y, test_size=0.1)\n",
        "dt = decisionTree(type = \"regression\")\n",
        "dt.train(X_train, y_train)\n",
        "ypred = dt.predict(X_test)\n",
        "print(\"Root Mean Squared Error of the model is : \", math.sqrt(mean_squared_error(ypred, y_test)))"
      ]
    },
    {
      "cell_type": "markdown",
      "metadata": {
        "id": "cWHsNnhj0MCD"
      },
      "source": [
        "### Random Forest Classifier\n",
        "Using bagging method, we created an ensemble of Decision Tree classifiers and used a voting mechnaism to decide what the class of a set of features will be."
      ]
    },
    {
      "cell_type": "code",
      "execution_count": null,
      "metadata": {
        "colab": {
          "base_uri": "https://localhost:8080/"
        },
        "id": "O3e_Q6dU0CzU",
        "outputId": "2f9c0e83-d16c-4fc0-fc0d-0c958856196d"
      },
      "outputs": [
        {
          "name": "stdout",
          "output_type": "stream",
          "text": [
            "Accuracy on iris dataset using a random forest model is  1.0\n"
          ]
        }
      ],
      "source": [
        "import pandas as pd\n",
        "from ensembleLearning.src.randomForest import randomForest\n",
        "from sklearn.model_selection import train_test_split\n",
        "from sklearn.metrics import accuracy_score\n",
        "data = pd.read_csv(\"ensembleLearning/data/iris.csv\")\n",
        "X = data.drop([\"variety\"], axis=1).values\n",
        "y = data[\"variety\"].values\n",
        "X_train, X_test, y_train, y_test = train_test_split(X, y, test_size=0.1)\n",
        "rf = randomForest(type = \"classification\", n_trees=50, max_depth=100, min_samples_leaf=1)\n",
        "rf.train(X_train, y_train)\n",
        "ypred = rf.predict(X_test)\n",
        "print(\"Accuracy on iris dataset using a random forest model is \", accuracy_score(ypred, y_test))"
      ]
    },
    {
      "cell_type": "markdown",
      "metadata": {
        "id": "I-59KRDD0bnX"
      },
      "source": [
        "### Random Forest Regressor\n",
        "Using Decision Tree Regressor base regression model, an ensemble method using bagging is created which is nothing but the Random Forest Regressor. Instead of voting mechanism like in the case of Random Forest Classifier, we take the average of all the predictions by all the base estimators"
      ]
    },
    {
      "cell_type": "code",
      "execution_count": null,
      "metadata": {
        "colab": {
          "base_uri": "https://localhost:8080/"
        },
        "id": "N3EXEOB50fxL",
        "outputId": "e195703a-336b-4596-bb9a-562d2e933a2b"
      },
      "outputs": [
        {
          "name": "stdout",
          "output_type": "stream",
          "text": [
            "Root Mean Squared Error of the model is :  52611.77811114424\n"
          ]
        }
      ],
      "source": [
        "import pandas as pd\n",
        "from ensembleLearning.src.randomForest import randomForest\n",
        "from sklearn.model_selection import train_test_split\n",
        "from sklearn.metrics import mean_squared_error\n",
        "import math\n",
        "reg_data = pd.read_csv(\"ensembleLearning/data/regression_housing.csv\")[[\"MSSubClass\", \"LotFrontage\", \"LotArea\", \"OverallQual\", \"OverallCond\", \"SalePrice\"]]\n",
        "X = reg_data.drop([\"SalePrice\"], axis=1).values\n",
        "y = reg_data[\"SalePrice\"].values\n",
        "X_train, X_test, y_train, y_test = train_test_split(X, y, test_size=0.1)\n",
        "rf = randomForest(type = \"regression\", n_trees=50, max_depth=100, min_samples_leaf=1)\n",
        "rf.train(X_train, y_train)\n",
        "ypred = rf.predict(X_test)\n",
        "print(\"Root Mean Squared Error of the model is : \", math.sqrt(mean_squared_error(ypred, y_test)))"
      ]
    }
  ],
  "metadata": {
    "colab": {
      "collapsed_sections": [],
      "name": "ensembleLearning-DTimplementation.ipynb",
      "provenance": []
    },
    "kernelspec": {
      "display_name": "Python 3",
      "name": "python3"
    },
    "language_info": {
      "name": "python",
      "version": "3.6.9"
    }
  },
  "nbformat": 4,
  "nbformat_minor": 0
}
